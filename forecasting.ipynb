{
 "cells": [
  {
   "cell_type": "code",
   "execution_count": 69,
   "metadata": {},
   "outputs": [],
   "source": [
    "# !pip install prophet\n",
    "# !pip install joblib"
   ]
  },
  {
   "cell_type": "code",
   "execution_count": 70,
   "metadata": {},
   "outputs": [],
   "source": [
    "import pandas as pd\n",
    "from prophet import Prophet\n",
    "import joblib  # For saving models\n",
    "import os\n"
   ]
  },
  {
   "cell_type": "code",
   "execution_count": 71,
   "metadata": {},
   "outputs": [],
   "source": [
    "df = pd.read_csv('sensor_data_2024_to_2025.csv')"
   ]
  },
  {
   "cell_type": "code",
   "execution_count": 72,
   "metadata": {},
   "outputs": [
    {
     "data": {
      "text/html": [
       "<div>\n",
       "<style scoped>\n",
       "    .dataframe tbody tr th:only-of-type {\n",
       "        vertical-align: middle;\n",
       "    }\n",
       "\n",
       "    .dataframe tbody tr th {\n",
       "        vertical-align: top;\n",
       "    }\n",
       "\n",
       "    .dataframe thead th {\n",
       "        text-align: right;\n",
       "    }\n",
       "</style>\n",
       "<table border=\"1\" class=\"dataframe\">\n",
       "  <thead>\n",
       "    <tr style=\"text-align: right;\">\n",
       "      <th></th>\n",
       "      <th>Timestamp</th>\n",
       "      <th>Temperature (°C)</th>\n",
       "      <th>Humidity (%)</th>\n",
       "      <th>MQ2 (%)</th>\n",
       "      <th>MQ5 (%)</th>\n",
       "      <th>MQ135 (%)</th>\n",
       "    </tr>\n",
       "  </thead>\n",
       "  <tbody>\n",
       "    <tr>\n",
       "      <th>0</th>\n",
       "      <td>1/1/2024 0:00</td>\n",
       "      <td>23.4</td>\n",
       "      <td>61.8</td>\n",
       "      <td>31.8</td>\n",
       "      <td>58.2</td>\n",
       "      <td>49.5</td>\n",
       "    </tr>\n",
       "    <tr>\n",
       "      <th>1</th>\n",
       "      <td>1/1/2024 1:00</td>\n",
       "      <td>28.6</td>\n",
       "      <td>68.1</td>\n",
       "      <td>8.0</td>\n",
       "      <td>24.8</td>\n",
       "      <td>20.8</td>\n",
       "    </tr>\n",
       "    <tr>\n",
       "      <th>2</th>\n",
       "      <td>1/1/2024 2:00</td>\n",
       "      <td>34.8</td>\n",
       "      <td>65.4</td>\n",
       "      <td>36.2</td>\n",
       "      <td>11.7</td>\n",
       "      <td>31.8</td>\n",
       "    </tr>\n",
       "    <tr>\n",
       "      <th>3</th>\n",
       "      <td>1/1/2024 3:00</td>\n",
       "      <td>29.7</td>\n",
       "      <td>43.9</td>\n",
       "      <td>49.6</td>\n",
       "      <td>12.3</td>\n",
       "      <td>13.0</td>\n",
       "    </tr>\n",
       "    <tr>\n",
       "      <th>4</th>\n",
       "      <td>1/1/2024 4:00</td>\n",
       "      <td>20.8</td>\n",
       "      <td>45.1</td>\n",
       "      <td>20.1</td>\n",
       "      <td>14.7</td>\n",
       "      <td>28.3</td>\n",
       "    </tr>\n",
       "  </tbody>\n",
       "</table>\n",
       "</div>"
      ],
      "text/plain": [
       "       Timestamp  Temperature (°C)  Humidity (%)  MQ2 (%)  MQ5 (%)  MQ135 (%)\n",
       "0  1/1/2024 0:00              23.4          61.8     31.8     58.2       49.5\n",
       "1  1/1/2024 1:00              28.6          68.1      8.0     24.8       20.8\n",
       "2  1/1/2024 2:00              34.8          65.4     36.2     11.7       31.8\n",
       "3  1/1/2024 3:00              29.7          43.9     49.6     12.3       13.0\n",
       "4  1/1/2024 4:00              20.8          45.1     20.1     14.7       28.3"
      ]
     },
     "execution_count": 72,
     "metadata": {},
     "output_type": "execute_result"
    }
   ],
   "source": [
    "df.head()"
   ]
  },
  {
   "cell_type": "code",
   "execution_count": 73,
   "metadata": {},
   "outputs": [
    {
     "name": "stdout",
     "output_type": "stream",
     "text": [
      "<class 'pandas.core.frame.DataFrame'>\n",
      "RangeIndex: 9528 entries, 0 to 9527\n",
      "Data columns (total 6 columns):\n",
      " #   Column            Non-Null Count  Dtype  \n",
      "---  ------            --------------  -----  \n",
      " 0   Timestamp         9192 non-null   object \n",
      " 1   Temperature (°C)  9192 non-null   float64\n",
      " 2   Humidity (%)      9192 non-null   float64\n",
      " 3   MQ2 (%)           9192 non-null   float64\n",
      " 4   MQ5 (%)           9192 non-null   float64\n",
      " 5   MQ135 (%)         9192 non-null   float64\n",
      "dtypes: float64(5), object(1)\n",
      "memory usage: 446.8+ KB\n"
     ]
    }
   ],
   "source": [
    "df.info()"
   ]
  },
  {
   "cell_type": "code",
   "execution_count": 74,
   "metadata": {},
   "outputs": [
    {
     "data": {
      "text/plain": [
       "(9528, 6)"
      ]
     },
     "execution_count": 74,
     "metadata": {},
     "output_type": "execute_result"
    }
   ],
   "source": [
    "df.shape"
   ]
  },
  {
   "cell_type": "code",
   "execution_count": 75,
   "metadata": {},
   "outputs": [
    {
     "data": {
      "text/plain": [
       "Timestamp           9192\n",
       "Temperature (°C)    9192\n",
       "Humidity (%)        9192\n",
       "MQ2 (%)             9192\n",
       "MQ5 (%)             9192\n",
       "MQ135 (%)           9192\n",
       "dtype: int64"
      ]
     },
     "execution_count": 75,
     "metadata": {},
     "output_type": "execute_result"
    }
   ],
   "source": [
    "df.notna().sum()"
   ]
  },
  {
   "cell_type": "code",
   "execution_count": 76,
   "metadata": {},
   "outputs": [],
   "source": [
    "# Assuming df is your DataFrame\n",
    "df = df.dropna()\n",
    "\n",
    "# Convert 'Timestamp' to datetime format\n",
    "df['Timestamp'] = pd.to_datetime(df['Timestamp'], format='%m/%d/%Y %H:%M')\n",
    "\n",
    "# List of columns to forecast\n",
    "target_columns = ['Temperature (°C)', 'Humidity (%)', 'MQ2 (%)', 'MQ5 (%)', 'MQ135 (%)']"
   ]
  },
  {
   "cell_type": "code",
   "execution_count": 77,
   "metadata": {},
   "outputs": [
    {
     "name": "stdout",
     "output_type": "stream",
     "text": [
      "Forecasting Temperature (°C)...\n"
     ]
    },
    {
     "name": "stderr",
     "output_type": "stream",
     "text": [
      "02:22:06 - cmdstanpy - INFO - Chain [1] start processing\n",
      "02:22:08 - cmdstanpy - INFO - Chain [1] done processing\n"
     ]
    },
    {
     "name": "stdout",
     "output_type": "stream",
     "text": [
      "Model for Temperature (°C) saved to prophet_models\\Temperature (°C)_prophet_model.joblib\n",
      "Forecasting Humidity (%)...\n"
     ]
    },
    {
     "name": "stderr",
     "output_type": "stream",
     "text": [
      "02:22:11 - cmdstanpy - INFO - Chain [1] start processing\n",
      "02:22:14 - cmdstanpy - INFO - Chain [1] done processing\n"
     ]
    },
    {
     "name": "stdout",
     "output_type": "stream",
     "text": [
      "Model for Humidity (%) saved to prophet_models\\Humidity (%)_prophet_model.joblib\n",
      "Forecasting MQ2 (%)...\n"
     ]
    },
    {
     "name": "stderr",
     "output_type": "stream",
     "text": [
      "02:22:17 - cmdstanpy - INFO - Chain [1] start processing\n",
      "02:22:20 - cmdstanpy - INFO - Chain [1] done processing\n"
     ]
    },
    {
     "name": "stdout",
     "output_type": "stream",
     "text": [
      "Model for MQ2 (%) saved to prophet_models\\MQ2 (%)_prophet_model.joblib\n",
      "Forecasting MQ5 (%)...\n"
     ]
    },
    {
     "name": "stderr",
     "output_type": "stream",
     "text": [
      "02:22:23 - cmdstanpy - INFO - Chain [1] start processing\n",
      "02:22:26 - cmdstanpy - INFO - Chain [1] done processing\n"
     ]
    },
    {
     "name": "stdout",
     "output_type": "stream",
     "text": [
      "Model for MQ5 (%) saved to prophet_models\\MQ5 (%)_prophet_model.joblib\n",
      "Forecasting MQ135 (%)...\n"
     ]
    },
    {
     "name": "stderr",
     "output_type": "stream",
     "text": [
      "02:22:29 - cmdstanpy - INFO - Chain [1] start processing\n",
      "02:22:33 - cmdstanpy - INFO - Chain [1] done processing\n"
     ]
    },
    {
     "name": "stdout",
     "output_type": "stream",
     "text": [
      "Model for MQ135 (%) saved to prophet_models\\MQ135 (%)_prophet_model.joblib\n",
      "Forecast for Temperature (°C):\n",
      "                      ds       yhat  yhat_lower  yhat_upper\n",
      "9552 2026-01-13 23:00:00  26.867307   21.747031   32.340268\n",
      "9553 2026-01-14 23:00:00  26.805757   21.455139   32.257948\n",
      "9554 2026-01-15 23:00:00  26.734647   21.168588   32.255239\n",
      "9555 2026-01-16 23:00:00  26.772155   21.383023   32.385523\n",
      "9556 2026-01-17 23:00:00  26.738861   21.397895   32.339098\n",
      "Forecast for Humidity (%):\n",
      "                      ds       yhat  yhat_lower  yhat_upper\n",
      "9552 2026-01-13 23:00:00  51.510254   36.368326   66.842104\n",
      "9553 2026-01-14 23:00:00  51.404375   37.307152   65.787237\n",
      "9554 2026-01-15 23:00:00  52.014244   37.392003   66.297599\n",
      "9555 2026-01-16 23:00:00  51.286697   37.494881   66.381614\n",
      "9556 2026-01-17 23:00:00  51.953000   38.043844   67.665547\n",
      "Forecast for MQ2 (%):\n",
      "                      ds       yhat  yhat_lower  yhat_upper\n",
      "9552 2026-01-13 23:00:00  25.732294    7.077913   43.873219\n",
      "9553 2026-01-14 23:00:00  26.457887    7.302952   44.952448\n",
      "9554 2026-01-15 23:00:00  26.387542    8.225577   45.210974\n",
      "9555 2026-01-16 23:00:00  26.615679    7.956194   45.107587\n",
      "9556 2026-01-17 23:00:00  26.293722    7.831702   46.319208\n",
      "Forecast for MQ5 (%):\n",
      "                      ds       yhat  yhat_lower  yhat_upper\n",
      "9552 2026-01-13 23:00:00  32.842048   10.270578   53.990643\n",
      "9553 2026-01-14 23:00:00  33.475001   11.012969   56.110048\n",
      "9554 2026-01-15 23:00:00  32.551409    9.392786   54.223806\n",
      "9555 2026-01-16 23:00:00  32.259975   10.302871   55.732382\n",
      "9556 2026-01-17 23:00:00  33.409812    9.877829   55.792161\n",
      "Forecast for MQ135 (%):\n",
      "                      ds       yhat  yhat_lower  yhat_upper\n",
      "9552 2026-01-13 23:00:00  35.545855    8.638645   61.679084\n",
      "9553 2026-01-14 23:00:00  34.534062    8.789075   58.777436\n",
      "9554 2026-01-15 23:00:00  34.523591    7.313772   58.669149\n",
      "9555 2026-01-16 23:00:00  34.856591   11.076757   61.476976\n",
      "9556 2026-01-17 23:00:00  35.258997   10.179181   61.453254\n"
     ]
    }
   ],
   "source": [
    "# Directory to save models\n",
    "model_dir = 'prophet_models'\n",
    "os.makedirs(model_dir, exist_ok=True)  # Create directory if it doesn't exist\n",
    "\n",
    "# Dictionary to store forecasts\n",
    "forecasts = {}\n",
    "\n",
    "# Loop through each target variable\n",
    "for column in target_columns:\n",
    "    print(f\"Forecasting {column}...\")\n",
    "    \n",
    "    # Prepare the data for Prophet\n",
    "    df_prophet = df[['Timestamp', column]].rename(columns={'Timestamp': 'ds', column: 'y'})\n",
    "    \n",
    "    # Initialize and fit the Prophet model\n",
    "    model = Prophet()\n",
    "    model.fit(df_prophet)\n",
    "    \n",
    "    # Create future DataFrame for predictions\n",
    "    future = model.make_future_dataframe(periods=365)  # Forecast 365 days into the future\n",
    "    \n",
    "    # Make predictions\n",
    "    forecast = model.predict(future)\n",
    "    \n",
    "    # Store the forecast in the dictionary\n",
    "    forecasts[column] = forecast\n",
    "    \n",
    "    # Save the model to disk\n",
    "    model_filename = os.path.join(model_dir, f'{column}_prophet_model.joblib')\n",
    "    joblib.dump(model, model_filename)\n",
    "    print(f\"Model for {column} saved to {model_filename}\")\n",
    "\n",
    "# Access forecasts for each variable\n",
    "for column, forecast in forecasts.items():\n",
    "    print(f\"Forecast for {column}:\")\n",
    "    print(forecast[['ds', 'yhat', 'yhat_lower', 'yhat_upper']].tail())"
   ]
  }
 ],
 "metadata": {
  "kernelspec": {
   "display_name": ".venv",
   "language": "python",
   "name": "python3"
  },
  "language_info": {
   "codemirror_mode": {
    "name": "ipython",
    "version": 3
   },
   "file_extension": ".py",
   "mimetype": "text/x-python",
   "name": "python",
   "nbconvert_exporter": "python",
   "pygments_lexer": "ipython3",
   "version": "3.12.0"
  }
 },
 "nbformat": 4,
 "nbformat_minor": 2
}
